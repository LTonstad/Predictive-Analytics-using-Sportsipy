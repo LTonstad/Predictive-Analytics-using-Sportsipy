{
 "cells": [
  {
   "cell_type": "code",
   "execution_count": 1,
   "id": "2bb9c558",
   "metadata": {},
   "outputs": [],
   "source": [
    "import pandas as pd\n",
    "import numpy as np\n",
    "\n",
    "pd.set_option('display.max_columns', None)\n",
    "\n",
    "import matplotlib.pyplot as plt\n",
    "\n",
    "plt.style.use('fivethirtyeight')\n",
    "\n",
    "df_boxscores = pd.read_pickle('data/df_boxscores.pkl')\n",
    "nfl_player_stats_by_career = pd.read_pickle('data/nfl_player_stats_by_career.pkl')\n",
    "nfl_player_stats_by_season = pd.read_pickle('data/nfl_player_stats_by_season.pkl')\n",
    "player_game_stats = pd.read_pickle('data/player_game_stats.pkl')\n",
    "team_season_stats = pd.read_pickle('data/team_season_stats.pkl')"
   ]
  },
  {
   "cell_type": "code",
   "execution_count": 3,
   "id": "8595ce91",
   "metadata": {
    "scrolled": true
   },
   "outputs": [
    {
     "data": {
      "text/plain": [
       "Index(['completed_passes', 'attempted_passes', 'passing_yards',\n",
       "       'passing_touchdowns', 'interceptions_thrown', 'times_sacked',\n",
       "       'yards_lost_from_sacks', 'longest_pass', 'quarterback_rating',\n",
       "       'rush_attempts', 'rush_yards', 'rush_touchdowns', 'longest_rush',\n",
       "       'times_pass_target', 'receptions', 'receiving_yards',\n",
       "       'receiving_touchdowns', 'longest_reception', 'fumbles', 'fumbles_lost',\n",
       "       'interceptions', 'yards_returned_from_interception',\n",
       "       'interceptions_returned_for_touchdown', 'longest_interception_return',\n",
       "       'passes_defended', 'sacks', 'combined_tackles', 'solo_tackles',\n",
       "       'assists_on_tackles', 'tackles_for_loss', 'quarterback_hits',\n",
       "       'fumbles_recovered', 'yards_recovered_from_fumble',\n",
       "       'fumbles_recovered_for_touchdown', 'fumbles_forced', 'kickoff_returns',\n",
       "       'kickoff_return_yards', 'average_kickoff_return_yards',\n",
       "       'kickoff_return_touchdown', 'longest_kickoff_return', 'punt_returns',\n",
       "       'punt_return_yards', 'yards_per_punt_return', 'punt_return_touchdown',\n",
       "       'longest_punt_return', 'extra_points_made', 'extra_points_attempted',\n",
       "       'field_goals_made', 'field_goals_attempted', 'punts',\n",
       "       'total_punt_yards', 'yards_per_punt', 'longest_punt'],\n",
       "      dtype='object')"
      ]
     },
     "execution_count": 3,
     "metadata": {},
     "output_type": "execute_result"
    }
   ],
   "source": [
    "player_game_stats.columns"
   ]
  },
  {
   "cell_type": "markdown",
   "id": "c752db31",
   "metadata": {},
   "source": [
    "# Creating Functions that convert into a coluumn for fantasy points gained from a player during a game"
   ]
  },
  {
   "cell_type": "code",
   "execution_count": 4,
   "id": "0861ebf4",
   "metadata": {},
   "outputs": [],
   "source": [
    "def fantasy_score(df):\n",
    "    # QB's\n",
    "    player_game_stats['completed_passes']\n",
    "    player_game_stats['passing_yards']\n",
    "    player_game_stats['passing_touchdowns']\n",
    "    player_game_stats['interceptions_thrown']\n",
    "    player_game_stats['times_sacked']\n",
    "    player_game_stats['yards_lost_from_sacks']\n",
    "    # Other Offense\n",
    "    player_game_stats['rush_yards']\n",
    "    player_game_stats['rush_touchdowns']\n",
    "    player_game_stats['receptions']\n",
    "    player_game_stats['receiving_yards']\n",
    "    player_game_stats['receiving_touchdowns']\n",
    "    player_game_stats['fumbles']\n",
    "    # Special Teams\n",
    "    player_game_stats['kickoff_return_touchdown']\n",
    "    player_game_stats['punt_return_touchdown']\n",
    "    player_game_stats['extra_points_made']\n",
    "    player_game_stats['extra_points_attempted']\n",
    "    player_game_stats['field_goals_made']\n",
    "    player_game_stats['field_goals_attempted']"
   ]
  },
  {
   "cell_type": "code",
   "execution_count": null,
   "id": "8c2091b6",
   "metadata": {},
   "outputs": [],
   "source": []
  }
 ],
 "metadata": {
  "kernelspec": {
   "display_name": "Python 3 (ipykernel)",
   "language": "python",
   "name": "python3"
  },
  "language_info": {
   "codemirror_mode": {
    "name": "ipython",
    "version": 3
   },
   "file_extension": ".py",
   "mimetype": "text/x-python",
   "name": "python",
   "nbconvert_exporter": "python",
   "pygments_lexer": "ipython3",
   "version": "3.8.5"
  }
 },
 "nbformat": 4,
 "nbformat_minor": 5
}
