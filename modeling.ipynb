{
 "cells": [
  {
   "cell_type": "code",
   "execution_count": 1,
   "metadata": {},
   "outputs": [
    {
     "ename": "SyntaxError",
     "evalue": "invalid syntax (<ipython-input-1-35124eb70cb2>, line 11)",
     "output_type": "error",
     "traceback": [
      "\u001b[0;36m  File \u001b[0;32m\"<ipython-input-1-35124eb70cb2>\"\u001b[0;36m, line \u001b[0;32m11\u001b[0m\n\u001b[0;31m    from tensorflow i\u001b[0m\n\u001b[0m                    ^\u001b[0m\n\u001b[0;31mSyntaxError\u001b[0m\u001b[0;31m:\u001b[0m invalid syntax\n"
     ]
    }
   ],
   "source": [
    "from src.functions import *\n",
    "\n",
    "from sklearn.linear_model import Lasso, LinearRegression, LogisticRegression, Ridge\n",
    "from sklearn.preprocessing import StandardScaler\n",
    "from sklearn.pipeline import Pipeline\n",
    "from sklearn.metrics import mean_squared_error\n",
    "from sklearn.tree import DecisionTreeRegressor\n",
    "from sklearn.model_selection import train_test_split, cross_val_predict, cross_val_score, cross_validate\n",
    "from sklearn.inspection import permutation_importance\n",
    "\n",
    "from tens\n",
    "\n",
    "with open('data/df_boxscores.pkl', \"rb\") as fh:\n",
    "  df_boxscores = pickle.load(fh)\n",
    "# df_boxscores = pd.read_pickle('data/df_boxscores.pkl')\n",
    "nfl_player_stats_by_career = pd.read_pickle('data/nfl_player_stats_by_career.pkl')\n",
    "nfl_player_stats_by_season = pd.read_pickle('data/nfl_player_stats_by_season.pkl')\n",
    "player_game_stats = pd.read_pickle('data/player_game_stats.pkl')\n",
    "team_season_stats = pd.read_pickle('data/team_season_stats.pkl')"
   ]
  },
  {
   "cell_type": "code",
   "execution_count": 8,
   "metadata": {},
   "outputs": [],
   "source": [
    "train_set, test_set = train_test_split(df_nums, test_size=0.2)"
   ]
  },
  {
   "cell_type": "code",
   "execution_count": 9,
   "metadata": {},
   "outputs": [],
   "source": [
    "train_nums_df = df_nums.drop('total_points', axis=1)\n",
    "train_labels = df_nums['total_points'].copy()"
   ]
  },
  {
   "cell_type": "code",
   "execution_count": null,
   "metadata": {},
   "outputs": [],
   "source": []
  }
 ],
 "metadata": {
  "kernelspec": {
   "display_name": "Python 3",
   "language": "python",
   "name": "python3"
  },
  "language_info": {
   "codemirror_mode": {
    "name": "ipython",
    "version": 3
   },
   "file_extension": ".py",
   "mimetype": "text/x-python",
   "name": "python",
   "nbconvert_exporter": "python",
   "pygments_lexer": "ipython3",
   "version": "3.8.5"
  }
 },
 "nbformat": 4,
 "nbformat_minor": 4
}
