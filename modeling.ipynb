{
 "cells": [
  {
   "cell_type": "code",
   "execution_count": 1,
   "metadata": {},
   "outputs": [],
   "source": [
    "from src.functions import *\n",
    "\n",
    "from sklearn.linear_model import Lasso, LinearRegression, LogisticRegression, Ridge\n",
    "from sklearn.preprocessing import StandardScaler\n",
    "from sklearn.pipeline import Pipeline\n",
    "from sklearn.metrics import mean_squared_error\n",
    "from sklearn.tree import DecisionTreeRegressor\n",
    "from sklearn.model_selection import train_test_split, cross_val_predict, cross_val_score, cross_validate\n",
    "from sklearn.inspection import permutation_importance\n",
    "\n",
    "from scipy.stats import spearmanr\n",
    "from scipy.cluster import hierarchy"
   ]
  },
  {
   "cell_type": "code",
   "execution_count": 3,
   "metadata": {},
   "outputs": [
    {
     "ename": "ValueError",
     "evalue": "unsupported pickle protocol: 5",
     "output_type": "error",
     "traceback": [
      "\u001b[0;31m---------------------------------------------------------------------------\u001b[0m",
      "\u001b[0;31mValueError\u001b[0m                                Traceback (most recent call last)",
      "\u001b[0;32m<ipython-input-3-0050ac1c9b08>\u001b[0m in \u001b[0;36m<module>\u001b[0;34m()\u001b[0m\n\u001b[0;32m----> 1\u001b[0;31m \u001b[0mdf\u001b[0m \u001b[0;34m=\u001b[0m \u001b[0mpd\u001b[0m\u001b[0;34m.\u001b[0m\u001b[0mread_pickle\u001b[0m\u001b[0;34m(\u001b[0m\u001b[0;34m'data/df_boxscores.pkl'\u001b[0m\u001b[0;34m)\u001b[0m\u001b[0;34m\u001b[0m\u001b[0m\n\u001b[0m\u001b[1;32m      2\u001b[0m \u001b[0mdf\u001b[0m\u001b[0;34m.\u001b[0m\u001b[0mhead\u001b[0m\u001b[0;34m(\u001b[0m\u001b[0;34m)\u001b[0m\u001b[0;34m\u001b[0m\u001b[0m\n",
      "\u001b[0;32m/home/luke/anaconda3/lib/python3.7/site-packages/pandas/io/pickle.py\u001b[0m in \u001b[0;36mread_pickle\u001b[0;34m(filepath_or_buffer, compression, storage_options)\u001b[0m\n\u001b[1;32m    201\u001b[0m                     \u001b[0;31m# We want to silence any warnings about, e.g. moved modules.\u001b[0m\u001b[0;34m\u001b[0m\u001b[0;34m\u001b[0m\u001b[0m\n\u001b[1;32m    202\u001b[0m                     \u001b[0mwarnings\u001b[0m\u001b[0;34m.\u001b[0m\u001b[0msimplefilter\u001b[0m\u001b[0;34m(\u001b[0m\u001b[0;34m\"ignore\"\u001b[0m\u001b[0;34m,\u001b[0m \u001b[0mWarning\u001b[0m\u001b[0;34m)\u001b[0m\u001b[0;34m\u001b[0m\u001b[0m\n\u001b[0;32m--> 203\u001b[0;31m                     \u001b[0;32mreturn\u001b[0m \u001b[0mpickle\u001b[0m\u001b[0;34m.\u001b[0m\u001b[0mload\u001b[0m\u001b[0;34m(\u001b[0m\u001b[0mhandles\u001b[0m\u001b[0;34m.\u001b[0m\u001b[0mhandle\u001b[0m\u001b[0;34m)\u001b[0m  \u001b[0;31m# type: ignore[arg-type]\u001b[0m\u001b[0;34m\u001b[0m\u001b[0m\n\u001b[0m\u001b[1;32m    204\u001b[0m             \u001b[0;32mexcept\u001b[0m \u001b[0mexcs_to_catch\u001b[0m\u001b[0;34m:\u001b[0m\u001b[0;34m\u001b[0m\u001b[0m\n\u001b[1;32m    205\u001b[0m                 \u001b[0;31m# e.g.\u001b[0m\u001b[0;34m\u001b[0m\u001b[0;34m\u001b[0m\u001b[0m\n",
      "\u001b[0;31mValueError\u001b[0m: unsupported pickle protocol: 5"
     ]
    }
   ],
   "source": [
    "df = pd.read_pickle('data/df_boxscores.pkl')\n",
    "df.head()"
   ]
  },
  {
   "cell_type": "code",
   "execution_count": 7,
   "metadata": {
    "scrolled": true
   },
   "outputs": [
    {
     "name": "stdout",
     "output_type": "stream",
     "text": [
      "<class 'pandas.core.frame.DataFrame'>\n",
      "Index: 5593 entries, 200009030min to 202102070tam\n",
      "Data columns (total 47 columns):\n",
      " #   Column                        Non-Null Count  Dtype  \n",
      "---  ------                        --------------  -----  \n",
      " 0   attendance                    5593 non-null   int64  \n",
      " 1   away_first_downs              5593 non-null   int64  \n",
      " 2   away_fourth_down_attempts     5593 non-null   int64  \n",
      " 3   away_fourth_down_conversions  5593 non-null   int64  \n",
      " 4   away_fumbles                  5593 non-null   int64  \n",
      " 5   away_fumbles_lost             5593 non-null   int64  \n",
      " 6   away_interceptions            5593 non-null   int64  \n",
      " 7   away_net_pass_yards           5593 non-null   int64  \n",
      " 8   away_pass_attempts            5593 non-null   int64  \n",
      " 9   away_pass_completions         5593 non-null   int64  \n",
      " 10  away_pass_touchdowns          5593 non-null   int64  \n",
      " 11  away_pass_yards               5593 non-null   int64  \n",
      " 12  away_penalties                5593 non-null   int64  \n",
      " 13  away_rush_attempts            5593 non-null   int64  \n",
      " 14  away_rush_touchdowns          5593 non-null   int64  \n",
      " 15  away_rush_yards               5593 non-null   int64  \n",
      " 16  away_third_down_attempts      5593 non-null   int64  \n",
      " 17  away_third_down_conversions   5593 non-null   int64  \n",
      " 18  away_times_sacked             5593 non-null   int64  \n",
      " 19  away_total_yards              5593 non-null   int64  \n",
      " 20  away_turnovers                5593 non-null   int64  \n",
      " 21  away_yards_from_penalties     5593 non-null   int64  \n",
      " 22  away_yards_lost_from_sacks    5593 non-null   int64  \n",
      " 23  home_first_downs              5593 non-null   int64  \n",
      " 24  home_fourth_down_attempts     5593 non-null   int64  \n",
      " 25  home_fourth_down_conversions  5593 non-null   int64  \n",
      " 26  home_fumbles                  5593 non-null   int64  \n",
      " 27  home_fumbles_lost             5593 non-null   int64  \n",
      " 28  home_interceptions            5593 non-null   int64  \n",
      " 29  home_net_pass_yards           5593 non-null   int64  \n",
      " 30  home_pass_attempts            5593 non-null   int64  \n",
      " 31  home_pass_completions         5593 non-null   int64  \n",
      " 32  home_pass_touchdowns          5593 non-null   int64  \n",
      " 33  home_pass_yards               5593 non-null   int64  \n",
      " 34  home_penalties                5593 non-null   int64  \n",
      " 35  home_rush_attempts            5593 non-null   int64  \n",
      " 36  home_rush_touchdowns          5593 non-null   int64  \n",
      " 37  home_rush_yards               5593 non-null   int64  \n",
      " 38  home_third_down_attempts      5593 non-null   int64  \n",
      " 39  home_third_down_conversions   5593 non-null   int64  \n",
      " 40  home_times_sacked             5593 non-null   int64  \n",
      " 41  home_total_yards              5593 non-null   int64  \n",
      " 42  home_turnovers                5593 non-null   int64  \n",
      " 43  home_yards_from_penalties     5593 non-null   int64  \n",
      " 44  home_yards_lost_from_sacks    5593 non-null   int64  \n",
      " 45  over_under_total              5593 non-null   float64\n",
      " 46  total_points                  5593 non-null   int64  \n",
      "dtypes: float64(1), int64(46)\n",
      "memory usage: 2.2+ MB\n"
     ]
    }
   ],
   "source": [
    "df_nums = df.select_dtypes(include='number')\n",
    "df_nums = df_nums.drop(['away_points', 'home_points', 'total_minus_over'], axis=1)\n",
    "df_nums.info()"
   ]
  },
  {
   "cell_type": "code",
   "execution_count": 8,
   "metadata": {},
   "outputs": [],
   "source": [
    "train_set, test_set = train_test_split(df_nums, test_size=0.2)"
   ]
  },
  {
   "cell_type": "code",
   "execution_count": 9,
   "metadata": {},
   "outputs": [],
   "source": [
    "train_nums_df = df_nums.drop('total_points', axis=1)\n",
    "train_labels = df_nums['total_points'].copy()"
   ]
  },
  {
   "cell_type": "code",
   "execution_count": null,
   "metadata": {},
   "outputs": [],
   "source": []
  }
 ],
 "metadata": {
  "kernelspec": {
   "display_name": "Python 3",
   "language": "python",
   "name": "python3"
  },
  "language_info": {
   "codemirror_mode": {
    "name": "ipython",
    "version": 3
   },
   "file_extension": ".py",
   "mimetype": "text/x-python",
   "name": "python",
   "nbconvert_exporter": "python",
   "pygments_lexer": "ipython3",
   "version": "3.7.0"
  }
 },
 "nbformat": 4,
 "nbformat_minor": 4
}
